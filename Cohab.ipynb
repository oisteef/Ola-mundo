{
  "nbformat": 4,
  "nbformat_minor": 0,
  "metadata": {
    "colab": {
      "provenance": [],
      "authorship_tag": "ABX9TyPSuKMS60faI90TEtIK5PXX",
      "include_colab_link": true
    },
    "kernelspec": {
      "name": "python3",
      "display_name": "Python 3"
    },
    "language_info": {
      "name": "python"
    }
  },
  "cells": [
    {
      "cell_type": "markdown",
      "metadata": {
        "id": "view-in-github",
        "colab_type": "text"
      },
      "source": [
        "<a href=\"https://colab.research.google.com/github/oisteef/Ola-mundo/blob/main/Cohab.ipynb\" target=\"_parent\"><img src=\"https://colab.research.google.com/assets/colab-badge.svg\" alt=\"Open In Colab\"/></a>"
      ]
    },
    {
      "cell_type": "code",
      "execution_count": 3,
      "metadata": {
        "id": "j8PZhMs5k3Lk",
        "colab": {
          "base_uri": "https://localhost:8080/"
        },
        "outputId": "69896c37-0cc3-42c6-edf4-4306740a4aa4"
      },
      "outputs": [
        {
          "output_type": "stream",
          "name": "stdout",
          "text": [
            "Looking in indexes: https://pypi.org/simple, https://us-python.pkg.dev/colab-wheels/public/simple/\n",
            "Collecting mysql-connector-python\n",
            "  Downloading mysql_connector_python-8.0.33-cp310-cp310-manylinux1_x86_64.whl (27.4 MB)\n",
            "\u001b[2K     \u001b[90m━━━━━━━━━━━━━━━━━━━━━━━━━━━━━━━━━━━━━━━━\u001b[0m \u001b[32m27.4/27.4 MB\u001b[0m \u001b[31m49.9 MB/s\u001b[0m eta \u001b[36m0:00:00\u001b[0m\n",
            "\u001b[?25hRequirement already satisfied: protobuf<=3.20.3,>=3.11.0 in /usr/local/lib/python3.10/dist-packages (from mysql-connector-python) (3.20.3)\n",
            "Installing collected packages: mysql-connector-python\n",
            "Successfully installed mysql-connector-python-8.0.33\n",
            "Looking in indexes: https://pypi.org/simple, https://us-python.pkg.dev/colab-wheels/public/simple/\n",
            "Requirement already satisfied: pandas in /usr/local/lib/python3.10/dist-packages (1.5.3)\n",
            "Requirement already satisfied: python-dateutil>=2.8.1 in /usr/local/lib/python3.10/dist-packages (from pandas) (2.8.2)\n",
            "Requirement already satisfied: pytz>=2020.1 in /usr/local/lib/python3.10/dist-packages (from pandas) (2022.7.1)\n",
            "Requirement already satisfied: numpy>=1.21.0 in /usr/local/lib/python3.10/dist-packages (from pandas) (1.22.4)\n",
            "Requirement already satisfied: six>=1.5 in /usr/local/lib/python3.10/dist-packages (from python-dateutil>=2.8.1->pandas) (1.16.0)\n",
            "Looking in indexes: https://pypi.org/simple, https://us-python.pkg.dev/colab-wheels/public/simple/\n",
            "Requirement already satisfied: matplotlib in /usr/local/lib/python3.10/dist-packages (3.7.1)\n",
            "Requirement already satisfied: contourpy>=1.0.1 in /usr/local/lib/python3.10/dist-packages (from matplotlib) (1.0.7)\n",
            "Requirement already satisfied: cycler>=0.10 in /usr/local/lib/python3.10/dist-packages (from matplotlib) (0.11.0)\n",
            "Requirement already satisfied: fonttools>=4.22.0 in /usr/local/lib/python3.10/dist-packages (from matplotlib) (4.39.3)\n",
            "Requirement already satisfied: kiwisolver>=1.0.1 in /usr/local/lib/python3.10/dist-packages (from matplotlib) (1.4.4)\n",
            "Requirement already satisfied: numpy>=1.20 in /usr/local/lib/python3.10/dist-packages (from matplotlib) (1.22.4)\n",
            "Requirement already satisfied: packaging>=20.0 in /usr/local/lib/python3.10/dist-packages (from matplotlib) (23.1)\n",
            "Requirement already satisfied: pillow>=6.2.0 in /usr/local/lib/python3.10/dist-packages (from matplotlib) (8.4.0)\n",
            "Requirement already satisfied: pyparsing>=2.3.1 in /usr/local/lib/python3.10/dist-packages (from matplotlib) (3.0.9)\n",
            "Requirement already satisfied: python-dateutil>=2.7 in /usr/local/lib/python3.10/dist-packages (from matplotlib) (2.8.2)\n",
            "Requirement already satisfied: six>=1.5 in /usr/local/lib/python3.10/dist-packages (from python-dateutil>=2.7->matplotlib) (1.16.0)\n"
          ]
        }
      ],
      "source": [
        "!pip install mysql-connector-python\n",
        "!pip install pandas\n",
        "!pip install matplotlib\n"
      ]
    },
    {
      "cell_type": "code",
      "source": [
        "import pandas as pd\n",
        "import mysql.connector\n",
        "import numpy as np\n",
        "import matplotlib.pyplot as plt"
      ],
      "metadata": {
        "id": "O6oYnj4UI8IT"
      },
      "execution_count": 4,
      "outputs": []
    },
    {
      "cell_type": "code",
      "source": [
        "# Cadastro dos pretendentes de moradias populares de Curitiba. COHAB"
      ],
      "metadata": {
        "id": "ES_7Gow9lMVG"
      },
      "execution_count": 66,
      "outputs": []
    },
    {
      "cell_type": "code",
      "source": [
        "dados_curitiba = pd.read_csv(\"https://mid.curitiba.pr.gov.br/dadosabertos/PretendentesCohab/2020-11-03_FILA_-_Base%20De%20Dados.csv\" , sep=\",\" , encoding='latin')\n",
        "dados_curitiba"
      ],
      "metadata": {
        "colab": {
          "base_uri": "https://localhost:8080/",
          "height": 641
        },
        "id": "6idme-pt2CVK",
        "outputId": "3ad919ac-ab75-4335-939a-c343d2bd73d3"
      },
      "execution_count": 5,
      "outputs": [
        {
          "output_type": "execute_result",
          "data": {
            "text/plain": [
              "          id data_inscricao data_validade             condicao_especial  \\\n",
              "0          1       30/12/86       07/2021                        Mulher   \n",
              "1          2       26/04/88       07/2021                        Mulher   \n",
              "2          3       17/05/88       04/2021                        Mulher   \n",
              "3          4       12/07/90       01/2021      Nenhum critério atingido   \n",
              "4          5       03/07/89       04/2020                        Mulher   \n",
              "...      ...            ...           ...                           ...   \n",
              "41770  41771       29/10/20       10/2021                        Mulher   \n",
              "41771  41772       03/11/20       11/2021  Mulher, Até 3 filhos menores   \n",
              "41772  41773       03/11/20       11/2021      Nenhum critério atingido   \n",
              "41773  41774       03/11/20       11/2021                        Mulher   \n",
              "41774  41775       03/11/20       11/2021      Nenhum critério atingido   \n",
              "\n",
              "                       faixa_renda  \\\n",
              "0           FAIXA 3 (mais de 3275)   \n",
              "1          FAIXA 1 (menos de 1600)   \n",
              "2      FAIXA 2 (entre 1600 e 3275)   \n",
              "3           FAIXA 3 (mais de 3275)   \n",
              "4          FAIXA 1 (menos de 1600)   \n",
              "...                            ...   \n",
              "41770      FAIXA 1 (menos de 1600)   \n",
              "41771       FAIXA 3 (mais de 3275)   \n",
              "41772  FAIXA 2 (entre 1600 e 3275)   \n",
              "41773  FAIXA 2 (entre 1600 e 3275)   \n",
              "41774      FAIXA 1 (menos de 1600)   \n",
              "\n",
              "                                               bairro              cidade  \\\n",
              "0      NÚCLEO HABITACIONAL DOUTOR ABRANCHES GUIMARÃES         Campo Largo   \n",
              "1                                      Campo Comprido            Curitiba   \n",
              "2                                   Cidade Industrial            Curitiba   \n",
              "3                                   Cidade Industrial            Curitiba   \n",
              "4                                     Capão da Imbuia            Curitiba   \n",
              "...                                               ...                 ...   \n",
              "41770                               Cidade Industrial            Curitiba   \n",
              "41771                       PLANTA BAIRRO WEISSÓPOLIS             Pinhais   \n",
              "41772                                      Capão Raso            Curitiba   \n",
              "41773                                     Pinheirinho            Curitiba   \n",
              "41774                                 SANTA TEREZINHA  Fazenda Rio Grande   \n",
              "\n",
              "            data_lote  \n",
              "0      03/11/20 10:28  \n",
              "1      03/11/20 10:28  \n",
              "2      03/11/20 10:28  \n",
              "3      03/11/20 10:28  \n",
              "4      03/11/20 10:28  \n",
              "...               ...  \n",
              "41770  03/11/20 10:28  \n",
              "41771  03/11/20 10:28  \n",
              "41772  03/11/20 10:28  \n",
              "41773  03/11/20 10:28  \n",
              "41774  03/11/20 10:28  \n",
              "\n",
              "[41775 rows x 8 columns]"
            ],
            "text/html": [
              "\n",
              "  <div id=\"df-ca39cb13-66b1-4405-be5f-a2316f12eea9\">\n",
              "    <div class=\"colab-df-container\">\n",
              "      <div>\n",
              "<style scoped>\n",
              "    .dataframe tbody tr th:only-of-type {\n",
              "        vertical-align: middle;\n",
              "    }\n",
              "\n",
              "    .dataframe tbody tr th {\n",
              "        vertical-align: top;\n",
              "    }\n",
              "\n",
              "    .dataframe thead th {\n",
              "        text-align: right;\n",
              "    }\n",
              "</style>\n",
              "<table border=\"1\" class=\"dataframe\">\n",
              "  <thead>\n",
              "    <tr style=\"text-align: right;\">\n",
              "      <th></th>\n",
              "      <th>id</th>\n",
              "      <th>data_inscricao</th>\n",
              "      <th>data_validade</th>\n",
              "      <th>condicao_especial</th>\n",
              "      <th>faixa_renda</th>\n",
              "      <th>bairro</th>\n",
              "      <th>cidade</th>\n",
              "      <th>data_lote</th>\n",
              "    </tr>\n",
              "  </thead>\n",
              "  <tbody>\n",
              "    <tr>\n",
              "      <th>0</th>\n",
              "      <td>1</td>\n",
              "      <td>30/12/86</td>\n",
              "      <td>07/2021</td>\n",
              "      <td>Mulher</td>\n",
              "      <td>FAIXA 3 (mais de 3275)</td>\n",
              "      <td>NÚCLEO HABITACIONAL DOUTOR ABRANCHES GUIMARÃES</td>\n",
              "      <td>Campo Largo</td>\n",
              "      <td>03/11/20 10:28</td>\n",
              "    </tr>\n",
              "    <tr>\n",
              "      <th>1</th>\n",
              "      <td>2</td>\n",
              "      <td>26/04/88</td>\n",
              "      <td>07/2021</td>\n",
              "      <td>Mulher</td>\n",
              "      <td>FAIXA 1 (menos de 1600)</td>\n",
              "      <td>Campo Comprido</td>\n",
              "      <td>Curitiba</td>\n",
              "      <td>03/11/20 10:28</td>\n",
              "    </tr>\n",
              "    <tr>\n",
              "      <th>2</th>\n",
              "      <td>3</td>\n",
              "      <td>17/05/88</td>\n",
              "      <td>04/2021</td>\n",
              "      <td>Mulher</td>\n",
              "      <td>FAIXA 2 (entre 1600 e 3275)</td>\n",
              "      <td>Cidade Industrial</td>\n",
              "      <td>Curitiba</td>\n",
              "      <td>03/11/20 10:28</td>\n",
              "    </tr>\n",
              "    <tr>\n",
              "      <th>3</th>\n",
              "      <td>4</td>\n",
              "      <td>12/07/90</td>\n",
              "      <td>01/2021</td>\n",
              "      <td>Nenhum critério atingido</td>\n",
              "      <td>FAIXA 3 (mais de 3275)</td>\n",
              "      <td>Cidade Industrial</td>\n",
              "      <td>Curitiba</td>\n",
              "      <td>03/11/20 10:28</td>\n",
              "    </tr>\n",
              "    <tr>\n",
              "      <th>4</th>\n",
              "      <td>5</td>\n",
              "      <td>03/07/89</td>\n",
              "      <td>04/2020</td>\n",
              "      <td>Mulher</td>\n",
              "      <td>FAIXA 1 (menos de 1600)</td>\n",
              "      <td>Capão da Imbuia</td>\n",
              "      <td>Curitiba</td>\n",
              "      <td>03/11/20 10:28</td>\n",
              "    </tr>\n",
              "    <tr>\n",
              "      <th>...</th>\n",
              "      <td>...</td>\n",
              "      <td>...</td>\n",
              "      <td>...</td>\n",
              "      <td>...</td>\n",
              "      <td>...</td>\n",
              "      <td>...</td>\n",
              "      <td>...</td>\n",
              "      <td>...</td>\n",
              "    </tr>\n",
              "    <tr>\n",
              "      <th>41770</th>\n",
              "      <td>41771</td>\n",
              "      <td>29/10/20</td>\n",
              "      <td>10/2021</td>\n",
              "      <td>Mulher</td>\n",
              "      <td>FAIXA 1 (menos de 1600)</td>\n",
              "      <td>Cidade Industrial</td>\n",
              "      <td>Curitiba</td>\n",
              "      <td>03/11/20 10:28</td>\n",
              "    </tr>\n",
              "    <tr>\n",
              "      <th>41771</th>\n",
              "      <td>41772</td>\n",
              "      <td>03/11/20</td>\n",
              "      <td>11/2021</td>\n",
              "      <td>Mulher, Até 3 filhos menores</td>\n",
              "      <td>FAIXA 3 (mais de 3275)</td>\n",
              "      <td>PLANTA BAIRRO WEISSÓPOLIS</td>\n",
              "      <td>Pinhais</td>\n",
              "      <td>03/11/20 10:28</td>\n",
              "    </tr>\n",
              "    <tr>\n",
              "      <th>41772</th>\n",
              "      <td>41773</td>\n",
              "      <td>03/11/20</td>\n",
              "      <td>11/2021</td>\n",
              "      <td>Nenhum critério atingido</td>\n",
              "      <td>FAIXA 2 (entre 1600 e 3275)</td>\n",
              "      <td>Capão Raso</td>\n",
              "      <td>Curitiba</td>\n",
              "      <td>03/11/20 10:28</td>\n",
              "    </tr>\n",
              "    <tr>\n",
              "      <th>41773</th>\n",
              "      <td>41774</td>\n",
              "      <td>03/11/20</td>\n",
              "      <td>11/2021</td>\n",
              "      <td>Mulher</td>\n",
              "      <td>FAIXA 2 (entre 1600 e 3275)</td>\n",
              "      <td>Pinheirinho</td>\n",
              "      <td>Curitiba</td>\n",
              "      <td>03/11/20 10:28</td>\n",
              "    </tr>\n",
              "    <tr>\n",
              "      <th>41774</th>\n",
              "      <td>41775</td>\n",
              "      <td>03/11/20</td>\n",
              "      <td>11/2021</td>\n",
              "      <td>Nenhum critério atingido</td>\n",
              "      <td>FAIXA 1 (menos de 1600)</td>\n",
              "      <td>SANTA TEREZINHA</td>\n",
              "      <td>Fazenda Rio Grande</td>\n",
              "      <td>03/11/20 10:28</td>\n",
              "    </tr>\n",
              "  </tbody>\n",
              "</table>\n",
              "<p>41775 rows × 8 columns</p>\n",
              "</div>\n",
              "      <button class=\"colab-df-convert\" onclick=\"convertToInteractive('df-ca39cb13-66b1-4405-be5f-a2316f12eea9')\"\n",
              "              title=\"Convert this dataframe to an interactive table.\"\n",
              "              style=\"display:none;\">\n",
              "        \n",
              "  <svg xmlns=\"http://www.w3.org/2000/svg\" height=\"24px\"viewBox=\"0 0 24 24\"\n",
              "       width=\"24px\">\n",
              "    <path d=\"M0 0h24v24H0V0z\" fill=\"none\"/>\n",
              "    <path d=\"M18.56 5.44l.94 2.06.94-2.06 2.06-.94-2.06-.94-.94-2.06-.94 2.06-2.06.94zm-11 1L8.5 8.5l.94-2.06 2.06-.94-2.06-.94L8.5 2.5l-.94 2.06-2.06.94zm10 10l.94 2.06.94-2.06 2.06-.94-2.06-.94-.94-2.06-.94 2.06-2.06.94z\"/><path d=\"M17.41 7.96l-1.37-1.37c-.4-.4-.92-.59-1.43-.59-.52 0-1.04.2-1.43.59L10.3 9.45l-7.72 7.72c-.78.78-.78 2.05 0 2.83L4 21.41c.39.39.9.59 1.41.59.51 0 1.02-.2 1.41-.59l7.78-7.78 2.81-2.81c.8-.78.8-2.07 0-2.86zM5.41 20L4 18.59l7.72-7.72 1.47 1.35L5.41 20z\"/>\n",
              "  </svg>\n",
              "      </button>\n",
              "      \n",
              "  <style>\n",
              "    .colab-df-container {\n",
              "      display:flex;\n",
              "      flex-wrap:wrap;\n",
              "      gap: 12px;\n",
              "    }\n",
              "\n",
              "    .colab-df-convert {\n",
              "      background-color: #E8F0FE;\n",
              "      border: none;\n",
              "      border-radius: 50%;\n",
              "      cursor: pointer;\n",
              "      display: none;\n",
              "      fill: #1967D2;\n",
              "      height: 32px;\n",
              "      padding: 0 0 0 0;\n",
              "      width: 32px;\n",
              "    }\n",
              "\n",
              "    .colab-df-convert:hover {\n",
              "      background-color: #E2EBFA;\n",
              "      box-shadow: 0px 1px 2px rgba(60, 64, 67, 0.3), 0px 1px 3px 1px rgba(60, 64, 67, 0.15);\n",
              "      fill: #174EA6;\n",
              "    }\n",
              "\n",
              "    [theme=dark] .colab-df-convert {\n",
              "      background-color: #3B4455;\n",
              "      fill: #D2E3FC;\n",
              "    }\n",
              "\n",
              "    [theme=dark] .colab-df-convert:hover {\n",
              "      background-color: #434B5C;\n",
              "      box-shadow: 0px 1px 3px 1px rgba(0, 0, 0, 0.15);\n",
              "      filter: drop-shadow(0px 1px 2px rgba(0, 0, 0, 0.3));\n",
              "      fill: #FFFFFF;\n",
              "    }\n",
              "  </style>\n",
              "\n",
              "      <script>\n",
              "        const buttonEl =\n",
              "          document.querySelector('#df-ca39cb13-66b1-4405-be5f-a2316f12eea9 button.colab-df-convert');\n",
              "        buttonEl.style.display =\n",
              "          google.colab.kernel.accessAllowed ? 'block' : 'none';\n",
              "\n",
              "        async function convertToInteractive(key) {\n",
              "          const element = document.querySelector('#df-ca39cb13-66b1-4405-be5f-a2316f12eea9');\n",
              "          const dataTable =\n",
              "            await google.colab.kernel.invokeFunction('convertToInteractive',\n",
              "                                                     [key], {});\n",
              "          if (!dataTable) return;\n",
              "\n",
              "          const docLinkHtml = 'Like what you see? Visit the ' +\n",
              "            '<a target=\"_blank\" href=https://colab.research.google.com/notebooks/data_table.ipynb>data table notebook</a>'\n",
              "            + ' to learn more about interactive tables.';\n",
              "          element.innerHTML = '';\n",
              "          dataTable['output_type'] = 'display_data';\n",
              "          await google.colab.output.renderOutput(dataTable, element);\n",
              "          const docLink = document.createElement('div');\n",
              "          docLink.innerHTML = docLinkHtml;\n",
              "          element.appendChild(docLink);\n",
              "        }\n",
              "      </script>\n",
              "    </div>\n",
              "  </div>\n",
              "  "
            ]
          },
          "metadata": {},
          "execution_count": 5
        }
      ]
    },
    {
      "cell_type": "code",
      "source": [
        "dados_curitiba['condicao_especial'].describe()    #contém 41775 valores não nulos, com 50 valores únicos. \"Mulher\" é o valor mais comum, aparecendo 10778 vezes."
      ],
      "metadata": {
        "colab": {
          "base_uri": "https://localhost:8080/"
        },
        "id": "lnVRFYe8ocho",
        "outputId": "5308077a-25e0-4580-a0fd-837b28aaa8f6"
      },
      "execution_count": 6,
      "outputs": [
        {
          "output_type": "execute_result",
          "data": {
            "text/plain": [
              "count      41775\n",
              "unique        50\n",
              "top       Mulher\n",
              "freq       10778\n",
              "Name: condicao_especial, dtype: object"
            ]
          },
          "metadata": {},
          "execution_count": 6
        }
      ]
    },
    {
      "cell_type": "code",
      "source": [
        "dados_curitiba['cidade'].describe()"
      ],
      "metadata": {
        "colab": {
          "base_uri": "https://localhost:8080/"
        },
        "id": "S6BaeXyRoJ-_",
        "outputId": "90dead7a-ab16-4235-f6bf-db84606151f3"
      },
      "execution_count": 7,
      "outputs": [
        {
          "output_type": "execute_result",
          "data": {
            "text/plain": [
              "count        41750\n",
              "unique          20\n",
              "top       Curitiba\n",
              "freq         37788\n",
              "Name: cidade, dtype: object"
            ]
          },
          "metadata": {},
          "execution_count": 7
        }
      ]
    },
    {
      "cell_type": "code",
      "source": [
        "dados_curitiba['id'].describe()"
      ],
      "metadata": {
        "colab": {
          "base_uri": "https://localhost:8080/"
        },
        "id": "mtaHR9tjCUbq",
        "outputId": "f5ba293b-20e0-414b-9d46-68ffcbe3b24e"
      },
      "execution_count": 8,
      "outputs": [
        {
          "output_type": "execute_result",
          "data": {
            "text/plain": [
              "count    41775.000000\n",
              "mean     20888.000000\n",
              "std      12059.548084\n",
              "min          1.000000\n",
              "25%      10444.500000\n",
              "50%      20888.000000\n",
              "75%      31331.500000\n",
              "max      41775.000000\n",
              "Name: id, dtype: float64"
            ]
          },
          "metadata": {},
          "execution_count": 8
        }
      ]
    },
    {
      "cell_type": "code",
      "source": [
        "dados_curitiba['bairro'].describe()"
      ],
      "metadata": {
        "colab": {
          "base_uri": "https://localhost:8080/"
        },
        "id": "UsXawueVACZ8",
        "outputId": "60673b4f-6390-4ea8-999d-bd94c52bf8b7"
      },
      "execution_count": 164,
      "outputs": [
        {
          "output_type": "execute_result",
          "data": {
            "text/plain": [
              "count                 40683\n",
              "unique                  417\n",
              "top       Cidade Industrial\n",
              "freq                   5123\n",
              "Name: bairro, dtype: object"
            ]
          },
          "metadata": {},
          "execution_count": 164
        }
      ]
    },
    {
      "cell_type": "code",
      "source": [
        "dados_curitiba.groupby(by='id')['bairro'].max().sort_values(ascending=False)"
      ],
      "metadata": {
        "colab": {
          "base_uri": "https://localhost:8080/"
        },
        "id": "CJ_mXV9UtiFY",
        "outputId": "0b18c48e-ff3a-4164-e967-4d236a3163aa"
      },
      "execution_count": 9,
      "outputs": [
        {
          "output_type": "execute_result",
          "data": {
            "text/plain": [
              "id\n",
              "27743    Área Rural de Curitiba\n",
              "5377     Área Rural de Curitiba\n",
              "28790    Área Rural de Curitiba\n",
              "8536                 Água Verde\n",
              "22340                Água Verde\n",
              "                  ...          \n",
              "41468                       NaN\n",
              "41547                       NaN\n",
              "41550                       NaN\n",
              "41640                       NaN\n",
              "41767                       NaN\n",
              "Name: bairro, Length: 41775, dtype: object"
            ]
          },
          "metadata": {},
          "execution_count": 9
        }
      ]
    },
    {
      "cell_type": "code",
      "source": [
        "print(dados_curitiba['bairro'].unique())"
      ],
      "metadata": {
        "colab": {
          "base_uri": "https://localhost:8080/"
        },
        "id": "bRJDUF4S1kFe",
        "outputId": "8fa63a8e-bb68-47a8-c340-3b343b58ab19"
      },
      "execution_count": 166,
      "outputs": [
        {
          "output_type": "stream",
          "name": "stdout",
          "text": [
            "['NÚCLEO HABITACIONAL DOUTOR ABRANCHES GUIMARÃES' 'Campo Comprido'\n",
            " 'Cidade Industrial' 'Capão da Imbuia' 'Pilarzinho' 'Boqueirão'\n",
            " 'Santo Inácio' 'Hauer' 'Novo Mundo' 'Cajuru' 'Uberaba' 'NAÇÕES'\n",
            " 'Boa Vista' 'PLANTA QUISSISSANA' 'Cascatinha' 'Alto Boqueirão' 'Centro'\n",
            " 'Portão' 'VILA JULIANA' 'Rebouças' 'Parolin' 'Santa Felicidade'\n",
            " 'Sítio Cercado' 'JARDIM RIO VERDE' 'Prado Velho' nan 'Bairro Alto'\n",
            " 'Capão Raso' 'Barreirinha' 'Cristo Rei' 'Atuba' 'São Francisco'\n",
            " 'São Braz' 'Jardim Botânico' 'Pinheirinho' 'Umbará' 'CAMPINA DA BARRA'\n",
            " 'Fanny' 'Abranches' 'Xaxim' 'CRUZEIRO' 'MIRINGUAVA' 'Mercês' 'Tatuquara'\n",
            " 'GUARITUBA' 'Fazendinha' 'PASSAUNA' 'Bairro Novo' 'Água Verde'\n",
            " 'BOQUEIRÃO' 'Santa Cândida' 'BOA VISTA' 'Jardim Social' 'GRALHA AZUL'\n",
            " 'Orleans' 'Bigorrilho' 'CAMPO PEQUENO' 'Guaíra' 'Butiatuvinha'\n",
            " 'EUCALIPTOS' 'Vila Izabel' 'HABITAL BRASIL' 'Jardim das Américas'\n",
            " 'JARDIM ANA ROSA II' 'IPÊ' 'FAZENDA VELHA' 'ROÇA GRANDE'\n",
            " 'Campina do Siqueira' 'JARDIM ATUBA I' 'Santa Quitéria' 'São João'\n",
            " 'Lindóia' 'Cachoeira' 'JARDIM SANTA CRUZ' 'VILA GARCIA' 'MORADIA ITAPIRA'\n",
            " 'Ganchinho' 'Campo de Santana' 'Bacacheri' 'SÃO GABRIEL' 'Guabirotuba'\n",
            " 'PLANTA BAIRRO WEISSÓPOLIS' 'NOVO HORIZONTE' 'VILA AMÉLIA' 'Ahú'\n",
            " 'Alto da Glória' 'JARDIM SAMAMBAIA' 'BONECA DO IGUAÇU'\n",
            " 'VILA VICENTE MACEDO' 'AFONSO PENA' 'VILA GILCY' 'COLÔNIA RIO GRANDE'\n",
            " 'Caximba' 'VILA DOM PEDRO II' 'QUATRO BARRAS' 'Cabral' 'CENTRO'\n",
            " 'Bom Retiro' 'PARQUE SÃO JOÃO' 'CAPELA VELHA' 'JOÃO GUALBERTO'\n",
            " 'JARDIM ALTO TARUMÃ' 'EUCALIPTOS I- II' 'EUGENIA MARIA'\n",
            " 'LOTEAMENTO PINEVILLE' 'DOM PEDRO II' 'JD PLANALTO' 'VILA IPANEMA'\n",
            " 'JARDIM ITIBERÊ' 'SANTA CECILIA' 'JARDIM GUARAITUBA' 'JARDIM CRUZEIRO'\n",
            " 'VILA MARIA ANTONIETA' 'SÃO SEBASTIÃO' 'PLANTA WEISSOPOLIS'\n",
            " 'SANTOS DUMONT' 'ESTADO' 'ESTRADINHA' 'FERRARIA' 'Juvevê' 'São Lourenço'\n",
            " 'Tingüi' 'Centro Cívico' 'JARDIM CURITIBA' 'COLOMBO' 'ZANIOLO'\n",
            " 'JARDIM NOSSA SENHORA DAS GRAÇAS' 'VILA TARUMÃ' 'JARDIM MARAMBAIA'\n",
            " 'GUATUPÊ' 'JARDIM DONA JOAQUINA II' 'PLANTA KARLA' 'PLANTA MARACANÃ'\n",
            " 'VILA GUARANI' 'BRAGA' 'PARQUE DO EMBU' 'JARDIM SANTA MÔNICA' 'Mossunguê'\n",
            " 'JARDIM PARANÁ' 'Vista Alegre' 'JARDIM ROMA' 'JARDIM CLÁUDIA'\n",
            " 'JARDIM SANTA HELENA' 'JARDIM MONTE SANTO' 'JARDIM EUCALIPTOS'\n",
            " 'VILA MARIANA' 'VILA DOM PEDRO' 'Augusta' 'ITIBERÊ' 'SANTA TEREZINHA'\n",
            " 'CIDADE JARDIM' 'Riviera' 'PLANTA BOROS' 'Carmo' 'JARDIM PALMITAL'\n",
            " 'SILVEIRA DA MOTTA' 'JARDIM CAMPO ALTO' 'Costeira' 'JARDIM APUCARANA'\n",
            " 'Seminário' 'TANGUÁ' 'JARDIM MEDITERRÂNEO' 'JARDIM MIRAGEM' 'Batel'\n",
            " 'JD VENEZA' 'ÁGUAS BELAS' 'JARDIM OSASCO' 'IGUAÇÚ' 'OURO FINO'\n",
            " 'JARDIM BELA VISTA' 'COSTEIRA' 'Alto da Rua XV' 'VILA GRAZIELA'\n",
            " 'VILA POMPÉIA' 'JARDIM MONZA' 'FRANCISCO GORSKI' 'VILA RUTE'\n",
            " 'JARDIM BANDEIRANTES' 'IGUAÇU' 'JARDIM KOKOT' 'JARDIM SANTA MARIA'\n",
            " 'JARDIM DONA JOAQUINA I' 'CENTRO INDUSTRIAL MAUÁ'\n",
            " 'PARQUE RESIDENCIAL SANTA TEREZINHA' 'JARDIM DOURADOS'\n",
            " 'VILA EMILIANO PERNETA' 'ARISTOCRATA' 'Tarumã' 'JARDIM ESPLANADA'\n",
            " 'JARDIM PALMARES' 'JD. PALOMA' 'VILA ALTO PINHEIROS' 'VILA PACHECO'\n",
            " 'PLANTA RIO NEGRO' 'JARDIM CÉSAR AUGUSTO' 'PLANTA SANTA ÚRSULA'\n",
            " 'JD PAULISTA' 'JARDIM DAS FLORES' 'COLÔNIA FARIA' 'PLANTA SÃO TIAGO'\n",
            " 'JARDIM ESMERALDA' 'São Miguel' 'VILA TORRES I'\n",
            " 'JARDIM NOSSA SENHORA DE FÁTIMA' 'CONJUNTO RESIDENCIAL ÁQUILA'\n",
            " 'VILA ALTO DA CRUZ III' 'THOMAZ COELHO' 'PARQUE SÃO JORGE' 'Taboão'\n",
            " 'Hugo Lange' 'BORDA DO CAMPOS' 'JARDIM DOS EUCALIPTOS' 'JARDIM PIO XII'\n",
            " 'JARDIM PARATI' 'BOTIATUVA' 'JARDIM ALVORADA' 'SÃO DOMINGOS'\n",
            " 'JOÃO PAULO SEGUNDO' 'JARDIM ARCO ÍRIS' 'JARDIM KELI CRISTINA'\n",
            " 'JARDIM TAÍZA' 'JARDIM FLORESTAL' 'RIO PEQUENO' 'VILA GRÉCIA'\n",
            " 'PLANTA SANTA LÚCIA' 'JARDIM DAS VIOLETAS' 'LOTEAMENTO MARINONI'\n",
            " 'JARDIM DAS PERDIZES' 'CACHUEIRA' 'JARDIM QUITANDINHA' 'BARIGUI'\n",
            " 'VILA DONA FINA' 'MORADIAS BOM JESUS' 'VILA ALTO DA CRUZ II'\n",
            " 'VILA SANTA EDWIGES' 'JD PIONEIRO' 'JARDIM PRIMAVERA'\n",
            " 'ALMIRANTE TAMANDARE' 'VALE DA BOA ESPERANÇA' 'ROSEIRA'\n",
            " 'NÚCLEO COLONIAL DE PINHAIS' 'Lamenha Pequena' 'VILA PETRÓPOLIS'\n",
            " 'PLANTA ARAÇATUBA' 'VILA SÃO JOSÉ' 'VILA FELIZ' 'JARDIM BOA ESPERANÇA'\n",
            " 'JARDIM JALISCO' 'JARDIM ITAMARATI' 'PARQUE MONTE CASTELO'\n",
            " 'PLANTA SANTA TEREZA' 'VILA VALE VERDE' 'JARDIM PLANALTO'\n",
            " 'JARDIM BOA VISTA' 'JARDIM SÃO VICENTE' 'JARDIM VITÓRIA' 'JARDIM MARIZE'\n",
            " 'JARDIM IRACEMA' 'JARDIM TAMBOARA' 'JARDIM IPÊ' 'PADRE JACKSON'\n",
            " 'PLANTA GUARITUBA PEQUENA' 'PLANTA NÚCLEO COLONIAL DE PINHAIS'\n",
            " 'MORADIAS PERDIZES' 'VILA PALMITAL' 'Área Rural de Curitiba' 'PIONEIROS'\n",
            " 'JARDIM PEDRO DEMETERCO' 'VILA ESPLANADA'\n",
            " 'LOTEAMENTO RECANTO DOS PAPAGAIOS' 'VILA SOLENE' 'JARDIM ADRIANA'\n",
            " 'PLANTA CLÁUDIO MEHL' 'JARDIM SÃO GABRIEL' 'JARDIM SUÉCIA' 'CRISTO REI'\n",
            " 'COLÔNIA VILA PRADO' 'VILA SANTA MARIA' 'SABIÁ' 'TINDIQUERA' 'BOTIATUBA'\n",
            " 'VILA YARA' 'VILA RACHEL' 'JARDIM ATUBA II' 'JARDIM DONA BELIZARIA'\n",
            " 'TUIUTI' 'IGUAÇÚ II' 'BOM JESUS' 'PLANTA SÃO VENÂNCIO' 'EMBOGUAÇU'\n",
            " 'JARDIM SÃO FRANCISCO' 'ESTAÇÃO' 'JARDIM CENTRAL' 'JARDIM ANA ROSA I'\n",
            " 'DIVINÉIA' 'VILA FUCK' 'VILA FERRARI' 'PLANTA DEODORO'\n",
            " 'VILA MARIA DO ROSÁRIO' 'LOTEAMENTO CHICO MENDES' 'JARDIM IPANEMA'\n",
            " 'JARDIM BUENOS AIRES' 'JARDIM GRAMADOS' 'JARDIM SILVANA'\n",
            " 'VILA SANTA TEREZINHA' 'PIRAQUARA' 'VILA AJAMBI' 'CARIOCA'\n",
            " 'JARDIM DONA LUIZA' 'CONJUNTO ÁGUAS CLARAS' '7 DE SETEMBRO'\n",
            " 'JARDIM AMAZONAS' 'PLANTA TEIXEIRA DE LARA' 'PLANTA ESTÂNCIA PINHAIS'\n",
            " 'JARDIM SOCIAL' 'VL DONA GUIOMAR' 'JARDIM PINHAIS' 'JARDIM TRIÂNGULO'\n",
            " 'CONJUNTO MORADIAS PERDIZES' 'LOTEAMENTO MONTPARNASSE' 'JARDIM PARIS'\n",
            " 'CHÁCARAS ATUBA' 'JARDIM MONTERREY' 'JARDIM HIPÓDROMO' 'CENTRO HISTÓRICO'\n",
            " 'PLANTA NOSSA SENHORA DE LOURDES' 'SÃO MIGUEL' 'VILA OPERÁRIA'\n",
            " 'VILA ALTO DA CRUZ' 'JARDIM PARAÍSO' 'VILA FORMOSA' 'VILA IRAI'\n",
            " 'SAPOPEMA' 'JARDIM SANTA RITA DE CÁSSIA' 'JARDIM GUARANY I' 'RONDINHA'\n",
            " 'VILA MARIA IGNÁCIA' 'JARDIM SÃO CARLOS' 'JARDIM FÊNIX' 'BOM PASTOR'\n",
            " 'VILA PALMIRA' 'JARDIM FLORENÇA' 'CONJUNTO RESIDENCIAL RENATO BONILAURI'\n",
            " 'JARDIM CARMELA' 'JARDIM GUARUJÁ' 'PLANTA CRUZEIRO' 'BORDA DO CAMPO'\n",
            " 'VILA SÃO PEDRO' 'JARDIM AURORA' 'SANTA MARIA' 'VILA SÃO CRISTÓVÃO'\n",
            " 'JARDIM ANITA GARIBALDI' 'JARDIM RIVABEM' 'JARDIM CAMPO VERDE'\n",
            " 'JD PLINIO' 'JARDIM DOS ESTADOS 1' 'PARQUE TIMBU' 'VILA EMERENTINA'\n",
            " 'VILA SÃO LUIZ' 'SÃO PEDRO' 'PLANTA BOSQUE CENTENÁRIO' 'JARDIM ESPERANÇA'\n",
            " 'JARDIM COLONIAL' 'SOLIDARIEDADE' 'SÃO CRISTÓVÃO' 'JARDIM CRISTINA'\n",
            " 'PLANTA VILA RICA' 'VILA ROSEMARI GALVÃO' 'PORTO DAS LARANJEIRAS'\n",
            " 'VILA OTÍLIA' 'JARDIM MODELO' 'JARDIM MONTE LÍBANO' 'JARDIM DRAGÃO VERDE'\n",
            " 'JARDIM NOSSA SENHORA DA PENHA' 'VILA MIRACEMA' 'LOTEAMENTO OURO VERDE I'\n",
            " 'PORTO DOS PADRES' 'PLANTA ALMIRANTE' 'VILA VALE DAS FLORES'\n",
            " 'JARDIM SÃO JOSÉ' 'LOTEAMENTO OURO VERDE II' 'JARDIM DEL REY'\n",
            " 'CONJUNTO RESIDENCIAL INOCOOP' 'JARDIM GUAIRACÁ' 'WALFRIDO DO ROSÁRIO'\n",
            " 'PLANTA WALDE ROSI GALVÃO' 'ROCIO' 'JARDIM DAS OLIVEIRAS' 'JARDIM ARAÇÁ'\n",
            " 'JARDIM AMÉRICA' 'INDUSTRIAL' 'ARAUCARIA' 'JARDIM ALVORADA II'\n",
            " 'CENTRO VELHO' 'JARDIM GRAZIELE' 'COLÔNIA MURICI' 'JARDIM DAS ACÁCIAS'\n",
            " 'VILA DÉA' 'VILA CACHOEIRA' 'FAZENDINHA' 'JARDIM GIANNINI'\n",
            " 'Loteamento Santa Rita' 'JD.JACOB CECCON' 'JARDIM LA PALOMA' 'SANTA GEMA'\n",
            " 'VILA FRANCA' 'PARQUE RESIDENCIAL SANTA TEREZINHA II' 'VILA IZABEL'\n",
            " 'JARDIM ALTEROSA' 'PLANTA WAGNER' 'VILA GUARACI' 'BATEIAS' 'VILA ATUBA'\n",
            " 'VILA PARANAGUÁ' 'PLANTA PONTONI FILHO' 'JARDIM GUARITUBA'\n",
            " 'LOTEAMENTO ITABOA' 'JARDIM GUARANI']\n"
          ]
        }
      ]
    },
    {
      "cell_type": "code",
      "source": [
        "print(dados_curitiba['bairro'].count())"
      ],
      "metadata": {
        "colab": {
          "base_uri": "https://localhost:8080/"
        },
        "id": "PBC_YZf220Rw",
        "outputId": "0417c8f6-4913-4199-a1ae-c266d53a6a25"
      },
      "execution_count": 167,
      "outputs": [
        {
          "output_type": "stream",
          "name": "stdout",
          "text": [
            "40683\n"
          ]
        }
      ]
    },
    {
      "cell_type": "code",
      "source": [
        "dados_filtrados = dados_curitiba[dados_curitiba['cidade'].notnull()]\n",
        "dados_curitiba['cidade'].value_counts().plot(kind='bar', legend=True)\n",
        "plt.show()"
      ],
      "metadata": {
        "colab": {
          "base_uri": "https://localhost:8080/",
          "height": 581
        },
        "id": "J79cqCrBEXUo",
        "outputId": "5ba317bf-1ad7-403f-8fce-9e3882b65654"
      },
      "execution_count": 24,
      "outputs": [
        {
          "output_type": "display_data",
          "data": {
            "text/plain": [
              "<Figure size 640x480 with 1 Axes>"
            ],
            "image/png": "[encoded data removed]"
          },
          "metadata": {}
        }
      ]
    },
    {
      "cell_type": "code",
      "source": [
        "dados_curitiba['cidade'].value_counts().plot(kind='bar', legend=True)\n",
        "plt.show()\n"
      ],
      "metadata": {
        "colab": {
          "base_uri": "https://localhost:8080/",
          "height": 581
        },
        "id": "Y8zRFbp_1vMW",
        "outputId": "df1fb2d1-87cd-4d48-8f1a-3a2678f8a230"
      },
      "execution_count": 15,
      "outputs": [
        {
          "output_type": "display_data",
          "data": {
            "text/plain": [
              "<Figure size 640x480 with 1 Axes>"
            ],
            "image/png": "[encoded data removed]"
          },
          "metadata": {}
        }
      ]
    }
  ]
}